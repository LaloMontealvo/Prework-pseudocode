{
 "cells": [
  {
   "cell_type": "markdown",
   "id": "0116a168",
   "metadata": {},
   "source": [
    "# ✍️ 6_pseudocode.ipynb\n",
    "This notebook is a clean starter version of the 'Python: Pseudocode' prework lesson."
   ]
  },
  {
   "cell_type": "markdown",
   "id": "d872bafc",
   "metadata": {},
   "source": [
    "## 📝 Description\n",
    "In this lesson, you’ll:\n",
    "- Learn how to write **pseudocode** (plain language steps before coding)\n",
    "- Translate that pseudocode into **real Python code**\n",
    "- Add **input validation** using `while`, `if`, and string methods like `.strip()`, `.isdigit()`\n"
   ]
  },
  {
   "cell_type": "markdown",
   "id": "498f1b3b",
   "metadata": {},
   "source": [
    "## 📌 Instructions\n",
    "**Your task is to write pseudocode and then turn it into Python code**\n",
    "\n",
    "Here’s the goal:\n",
    "- Prompt the user to enter `1` or `2`\n",
    "- If the user enters anything else:\n",
    "  - If it’s not a number → show an error\n",
    "  - If it’s not 1 or 2 → show a different error\n",
    "- Keep asking until they give a valid response\n",
    "- Print a confirmation message"
   ]
  },
  {
   "cell_type": "markdown",
   "id": "bfb3db9c",
   "metadata": {},
   "source": [
    "## 🔧 Pseudocode (write in comments below)\n",
    "Use `#` to write your pseudocode here:"
   ]
  },
  {
   "cell_type": "code",
   "execution_count": null,
   "id": "f837188a",
   "metadata": {},
   "outputs": [],
   "source": [
    "# Ask the user to enter a value (1 or 2)\n",
    "# Repeat until the input is valid\n",
    "# If input is not numeric, show an error and ask again\n",
    "# If input is not 1 or 2, show an error and ask again\n",
    "# If input is valid, thank the user and stop"
   ]
  },
  {
   "cell_type": "markdown",
   "id": "b33f9d35",
   "metadata": {},
   "source": [
    "## 💻 Python Code\n",
    "Translate your pseudocode above into working Python here:"
   ]
  },
  {
   "cell_type": "code",
   "execution_count": 2,
   "id": "d30a47fa",
   "metadata": {},
   "outputs": [
    {
     "name": "stdout",
     "output_type": "stream",
     "text": [
      "❌ Error: Input must be a number.\n",
      "❌ Error: Input must be a number.\n",
      "❌ Error: Only 1 or 2 are allowed.\n",
      "✅ Thank you for entering: 1\n"
     ]
    }
   ],
   "source": [
    "while True:\n",
    "    user_input = input(\"Please enter 1 or 2: \").strip()\n",
    "\n",
    "    if not user_input.isdigit():\n",
    "        print(\"❌ Error: Input must be a number.\")\n",
    "        continue\n",
    "\n",
    "    if user_input not in [\"1\", \"2\"]:\n",
    "        print(\"❌ Error: Only 1 or 2 are allowed.\")\n",
    "        continue\n",
    "\n",
    "    print(\"✅ Thank you for entering:\", user_input)\n",
    "    break"
   ]
  },
  {
   "cell_type": "markdown",
   "id": "bfc8eb69",
   "metadata": {},
   "source": [
    "## ✅ Done? Submit Your Notebook\n",
    "- Save this notebook\n",
    "- Upload it to Google Drive or GitHub\n",
    "- Share the link in the Ironhack Student Portal ✅"
   ]
  }
 ],
 "metadata": {
  "kernelspec": {
   "display_name": "data-analyst",
   "language": "python",
   "name": "python3"
  },
  "language_info": {
   "codemirror_mode": {
    "name": "ipython",
    "version": 3
   },
   "file_extension": ".py",
   "mimetype": "text/x-python",
   "name": "python",
   "nbconvert_exporter": "python",
   "pygments_lexer": "ipython3",
   "version": "3.13.5"
  }
 },
 "nbformat": 4,
 "nbformat_minor": 5
}
